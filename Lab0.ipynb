{
 "cells": [
  {
   "cell_type": "markdown",
   "metadata": {},
   "source": [
    "# Juypter Notebook Intro\n",
    "\n",
    "This is a notebook."
   ]
  },
  {
   "cell_type": "code",
   "execution_count": 1,
   "metadata": {},
   "outputs": [],
   "source": [
    "3 + 4\n",
    "result = 7"
   ]
  },
  {
   "cell_type": "code",
   "execution_count": 2,
   "metadata": {},
   "outputs": [
    {
     "name": "stdout",
     "output_type": "stream",
     "text": [
      "0\n",
      "1\n",
      "2\n",
      "3\n",
      "4\n",
      "5\n",
      "6\n",
      "7\n",
      "8\n",
      "9\n"
     ]
    }
   ],
   "source": [
    "for i in range(10):\n",
    "    print(i)"
   ]
  },
  {
   "cell_type": "markdown",
   "metadata": {},
   "source": [
    "## While Loop (less Pythonic)"
   ]
  },
  {
   "cell_type": "code",
   "execution_count": 3,
   "metadata": {},
   "outputs": [
    {
     "data": {
      "text/plain": [
       "True"
      ]
     },
     "execution_count": 3,
     "metadata": {},
     "output_type": "execute_result"
    }
   ],
   "source": [
    "s = \"RacecAr \"\n",
    "\n",
    "def is_palindrome1(string):\n",
    "    clean_string = string.lower().replace(' ', '')\n",
    "    first, last = 0, len(clean_string)-1\n",
    "    while( first < last):\n",
    "        if clean_string[first] == clean_string[last]:\n",
    "            first +=1\n",
    "            last -=1\n",
    "        else:\n",
    "            return False\n",
    "    \n",
    "    return True\n",
    "\n",
    "is_palindrome1(s) "
   ]
  },
  {
   "cell_type": "markdown",
   "metadata": {},
   "source": [
    "## String Slicing (More Pythonic)"
   ]
  },
  {
   "cell_type": "code",
   "execution_count": 4,
   "metadata": {},
   "outputs": [
    {
     "data": {
      "text/plain": [
       "True"
      ]
     },
     "execution_count": 4,
     "metadata": {},
     "output_type": "execute_result"
    }
   ],
   "source": [
    "def is_palindrome2(string):\n",
    "    clean_string = string.lower().replace(' ', '')\n",
    "    reversed_string = clean_string[::-1]\n",
    "    return clean_string == reversed_string\n",
    "\n",
    "s = \" Rac eC ar \"\n",
    "is_palindrome2(s)"
   ]
  },
  {
   "cell_type": "markdown",
   "metadata": {},
   "source": [
    "## Dictionaries"
   ]
  },
  {
   "cell_type": "markdown",
   "metadata": {},
   "source": [
    "A dictionary is a collection of key-value pairs. \n",
    "\n",
    "https://www.programiz.com/python-programming/dictionary \n",
    "\n",
    "### Creating"
   ]
  },
  {
   "cell_type": "code",
   "execution_count": 5,
   "metadata": {},
   "outputs": [],
   "source": [
    "club_stereotypes = {\n",
    "    \"xbx\": \"bible lovers\",\n",
    "    \"ep\": \"terrible\",\n",
    "    \"pka\": \"rednecks\",\n",
    "    \"ox\": \"athletic\",\n",
    "    \"xcd\": \"granola\",\n",
    "    \"gto\": \"dead\"\n",
    "}\n"
   ]
  },
  {
   "cell_type": "markdown",
   "metadata": {},
   "source": [
    "### Accessing"
   ]
  },
  {
   "cell_type": "code",
   "execution_count": 6,
   "metadata": {},
   "outputs": [
    {
     "name": "stdout",
     "output_type": "stream",
     "text": [
      "bible lovers\n",
      "None\n"
     ]
    }
   ],
   "source": [
    "xbx = club_stereotypes[\"xbx\"]\n",
    "print(xbx)\n",
    "\n",
    "pm = club_stereotypes.get(\"pm\")\n",
    "print(pm)"
   ]
  },
  {
   "cell_type": "markdown",
   "metadata": {},
   "source": [
    "### Adding / Updating"
   ]
  },
  {
   "cell_type": "code",
   "execution_count": 7,
   "metadata": {},
   "outputs": [
    {
     "name": "stdout",
     "output_type": "stream",
     "text": [
      "{'xbx': 'bible lovers', 'ep': 'terrible', 'pka': 'really country', 'ox': 'athletic', 'xcd': 'granola', 'gto': 'dead', 'pm': 'quirky'}\n"
     ]
    }
   ],
   "source": [
    "# add\n",
    "club_stereotypes['pm'] = \"quirky\"\n",
    "\n",
    "# update\n",
    "club_stereotypes[\"pka\"] = \"really country\"\n",
    "\n",
    "print(club_stereotypes)"
   ]
  },
  {
   "cell_type": "markdown",
   "metadata": {},
   "source": [
    "### Removing"
   ]
  },
  {
   "cell_type": "code",
   "execution_count": 8,
   "metadata": {},
   "outputs": [
    {
     "name": "stdout",
     "output_type": "stream",
     "text": [
      "{'xbx': 'bible lovers', 'ep': 'terrible', 'pka': 'really country', 'ox': 'athletic', 'xcd': 'granola', 'gto': 'dead'}\n",
      "{'xbx': 'bible lovers', 'ep': 'terrible', 'ox': 'athletic', 'xcd': 'granola', 'gto': 'dead'}\n"
     ]
    }
   ],
   "source": [
    "removed_club = club_stereotypes.pop(\"pm\")\n",
    "\n",
    "print(club_stereotypes)\n",
    "\n",
    "del club_stereotypes[\"pka\"]\n",
    "\n",
    "print(club_stereotypes)\n"
   ]
  },
  {
   "cell_type": "markdown",
   "metadata": {},
   "source": [
    "### Methods"
   ]
  },
  {
   "cell_type": "code",
   "execution_count": 9,
   "metadata": {},
   "outputs": [
    {
     "name": "stdout",
     "output_type": "stream",
     "text": [
      "dict_items([('xbx', 'bible lovers'), ('ep', 'terrible'), ('ox', 'athletic'), ('xcd', 'granola'), ('gto', 'dead')])\n",
      "dict_keys(['xbx', 'ep', 'ox', 'xcd', 'gto'])\n",
      "dict_values(['bible lovers', 'terrible', 'athletic', 'granola', 'dead'])\n"
     ]
    }
   ],
   "source": [
    "# items()\n",
    "print(club_stereotypes.items())\n",
    "\n",
    "# keys()\n",
    "print( club_stereotypes.keys())\n",
    "\n",
    "# values()\n",
    "print( club_stereotypes.values())\n",
    "\n",
    "# clear()\n",
    "#club_stereotypes.clear()"
   ]
  },
  {
   "cell_type": "markdown",
   "metadata": {},
   "source": [
    "### Example"
   ]
  },
  {
   "cell_type": "code",
   "execution_count": 2,
   "metadata": {},
   "outputs": [
    {
     "name": "stdout",
     "output_type": "stream",
     "text": [
      "Pirates of the Caribbean: At World's End - 7.1\n",
      "The Dark Knight Rises - 8.5\n",
      "Star Wars: Episode VII - The Force Awakens  - 7.8\n",
      "Star Wars: Episode VIII - The Last Jedi  - 6.9\n"
     ]
    }
   ],
   "source": [
    "reviews = { \n",
    "    \"Pirates of the Caribbean: At World's End\": 7.1,\n",
    "    \"The Dark Knight Rises\": 8.5,\n",
    "    \"Star Wars: Episode VII - The Force Awakens \": 7.8,\n",
    "    \"Star Wars: Episode VIII - The Last Jedi \": 6.9\n",
    "    }\n",
    "\n",
    "for movie, rating in reviews.items(): \n",
    "    print(f\"{movie} - {rating}\")"
   ]
  },
  {
   "cell_type": "markdown",
   "metadata": {},
   "source": []
  },
  {
   "cell_type": "code",
   "execution_count": null,
   "metadata": {},
   "outputs": [],
   "source": [
    "import csv\n",
    "\n",
    "ratings = {}\n",
    "\n",
    "with open('movie.csv', encoding=\"utf-8\") as csvfile:\n",
    "    reader = csv.DictReader(csvfile)\n",
    "    for row in reader:\n",
    "        #print(row['movie_title'], row['imdb_score'])\n",
    "        ratings[row['movie_title']] = float(row['imdb_score'])\n",
    "\n",
    "ratings"
   ]
  },
  {
   "cell_type": "markdown",
   "metadata": {},
   "source": [
    "What is the average IMDB Score of all the movies?"
   ]
  },
  {
   "cell_type": "code",
   "execution_count": 12,
   "metadata": {},
   "outputs": [
    {
     "name": "stdout",
     "output_type": "stream",
     "text": [
      "6.4374288039056085\n"
     ]
    }
   ],
   "source": [
    "sum = 0\n",
    "\n",
    "for rating in ratings.values():\n",
    "    sum += rating\n",
    "\n",
    "average_rating = sum / len(ratings)\n",
    "print(average_rating)"
   ]
  },
  {
   "cell_type": "code",
   "execution_count": 13,
   "metadata": {},
   "outputs": [
    {
     "data": {
      "text/plain": [
       "4916"
      ]
     },
     "execution_count": 13,
     "metadata": {},
     "output_type": "execute_result"
    }
   ],
   "source": [
    "len(ratings)"
   ]
  },
  {
   "cell_type": "markdown",
   "metadata": {},
   "source": [
    "### Questions\n",
    "1. How many movies have \"Star Wars\" in the movie_title field?"
   ]
  },
  {
   "cell_type": "code",
   "execution_count": null,
   "metadata": {},
   "outputs": [],
   "source": [
    "import csv\n",
    "\n",
    "movies = []\n",
    "\n",
    "with open('movie.csv', encoding=\"utf-8\") as csvfile:\n",
    "    reader = csv.DictReader(csvfile)\n",
    "    for row in reader:\n",
    "        #print(row['movie_title'], row['imdb_score'])\n",
    "        movies.append(row['movie_title'])\n",
    "\n",
    "movies"
   ]
  },
  {
   "cell_type": "code",
   "execution_count": 7,
   "metadata": {},
   "outputs": [
    {
     "name": "stdout",
     "output_type": "stream",
     "text": [
      "There are 8 movies under the movie_title field with Star Wars in it.\n"
     ]
    }
   ],
   "source": [
    "movie_list = []\n",
    "star_wars_count = 0\n",
    "\n",
    "#converts list of movies into a list for easier splitting\n",
    "for movie in movies:\n",
    "    movie_list.append(movie)\n",
    "\n",
    "#iterates through movie list and divides by colon\n",
    "for m in movie_list:\n",
    "    divided_movie = m.split(':')\n",
    "\n",
    "#iterates through divided list to find term that catches \"Star Wars\"\n",
    "    for m2 in divided_movie:\n",
    "        if m2 == \"Star Wars\":\n",
    "            star_wars_count += 1\n",
    "\n",
    "print(f\"There are {star_wars_count} movies under the movie_title field with Star Wars in it.\")"
   ]
  },
  {
   "cell_type": "markdown",
   "metadata": {},
   "source": [
    "2. Which movie has the highest IMDB Score?"
   ]
  },
  {
   "cell_type": "code",
   "execution_count": null,
   "metadata": {},
   "outputs": [],
   "source": [
    "import csv\n",
    "\n",
    "ratings2 = {}\n",
    "\n",
    "with open('movie.csv', encoding=\"utf-8\") as csvfile:\n",
    "    reader = csv.DictReader(csvfile)\n",
    "    for row in reader:\n",
    "        #print(row['movie_title'], row['imdb_score'])\n",
    "        ratings2[row['movie_title']] = float(row['imdb_score'])\n",
    "\n",
    "ratings2"
   ]
  },
  {
   "cell_type": "code",
   "execution_count": 10,
   "metadata": {},
   "outputs": [
    {
     "name": "stdout",
     "output_type": "stream",
     "text": [
      "The movie with the highest rating is Towering Inferno with a rating of 9.5.\n"
     ]
    }
   ],
   "source": [
    "highest_rated_movie_rating = (max(ratings2.values()))\n",
    "highest_rated_movie_name = list(ratings2.keys()) [list(ratings2.values()).index(highest_rated_movie_rating)]\n",
    "\n",
    "print(f\"The movie with the highest rating is {highest_rated_movie_name} with a rating of {highest_rated_movie_rating}.\")"
   ]
  },
  {
   "cell_type": "markdown",
   "metadata": {},
   "source": [
    "3. Which movie has the lowest IMDB Score?\n"
   ]
  },
  {
   "cell_type": "code",
   "execution_count": 11,
   "metadata": {},
   "outputs": [
    {
     "name": "stdout",
     "output_type": "stream",
     "text": [
      "The movie with the lowest rating is Justin Bieber: Never Say Never with a rating of 1.6.\n"
     ]
    }
   ],
   "source": [
    "lowest_rated_movie_rating = (min(ratings2.values()))\n",
    "lowest_rated_movie_name = list(ratings2.keys()) [list(ratings2.values()).index(lowest_rated_movie_rating)]\n",
    "\n",
    "print(f\"The movie with the lowest rating is {lowest_rated_movie_name} with a rating of {lowest_rated_movie_rating}.\")"
   ]
  },
  {
   "cell_type": "markdown",
   "metadata": {},
   "source": [
    "4. For each director, how many movies have they directed (from this dataset)?"
   ]
  },
  {
   "cell_type": "code",
   "execution_count": null,
   "metadata": {},
   "outputs": [],
   "source": [
    "import csv\n",
    "\n",
    "director_names = []\n",
    "\n",
    "with open('movie.csv', encoding=\"utf-8\") as csvfile:\n",
    "    reader = csv.DictReader(csvfile)\n",
    "    for row in reader:\n",
    "        #print(row['movie_title'], row['imdb_score'])\n",
    "        director_names.append(row['director_name'])\n",
    "\n",
    "director_names\n"
   ]
  },
  {
   "cell_type": "code",
   "execution_count": null,
   "metadata": {},
   "outputs": [],
   "source": [
    "non_duplicate_list = []\n",
    "\n",
    "for name in director_names:\n",
    "    if name not in non_duplicate_list:\n",
    "        non_duplicate_list.append(name)\n",
    "        name_count = director_names.count(name)\n",
    "        if name_count != 1:\n",
    "            print(f\"{name} directed {name_count} movies.\")\n",
    "        else:\n",
    "            print(f\"{name} directed {name_count} movie.\")"
   ]
  },
  {
   "cell_type": "markdown",
   "metadata": {},
   "source": [
    "5. What's the average duration of Action movies?"
   ]
  },
  {
   "cell_type": "code",
   "execution_count": null,
   "metadata": {},
   "outputs": [],
   "source": [
    "\n",
    "#Focus on the genre and duration categories of the movie spreadsheet [need help]\n",
    "import csv\n",
    "\n",
    "genre_duration = {}\n",
    "\n",
    "with open('movie.csv', encoding=\"utf-8\") as csvfile:\n",
    "    reader = csv.DictReader(csvfile)\n",
    "    for row in reader:\n",
    "        if row['duration'] == '' or row['genres'] =='':\n",
    "            continue\n",
    "        else:\n",
    "            genre_duration[row['genres']] = float(row['duration'])\n",
    "\n",
    "genre_duration"
   ]
  },
  {
   "cell_type": "code",
   "execution_count": 16,
   "metadata": {},
   "outputs": [
    {
     "name": "stdout",
     "output_type": "stream",
     "text": [
      "The average duration of action movies is 105.78006872852234\n",
      "291\n"
     ]
    }
   ],
   "source": [
    "action_duration_sum = 0\n",
    "count = 0\n",
    "\n",
    "for genre, value in genre_duration.items():\n",
    "    split_genre = genre.split('|')\n",
    "    for g in split_genre:\n",
    "        if g == \"Action\":\n",
    "            action_duration_sum += value\n",
    "            count += 1\n",
    "\n",
    "average_duration = action_duration_sum / count\n",
    "\n",
    "print(f\"The average duration of action movies is {average_duration}\")"
   ]
  }
 ],
 "metadata": {
  "kernelspec": {
   "display_name": "Python 3.10.0 64-bit",
   "language": "python",
   "name": "python3"
  },
  "language_info": {
   "codemirror_mode": {
    "name": "ipython",
    "version": 3
   },
   "file_extension": ".py",
   "mimetype": "text/x-python",
   "name": "python",
   "nbconvert_exporter": "python",
   "pygments_lexer": "ipython3",
   "version": "3.10.0"
  },
  "orig_nbformat": 4,
  "vscode": {
   "interpreter": {
    "hash": "b05677e729e43387f99bba314aa7d51bf7d67e271016e5e1a80b90b0141f843a"
   }
  }
 },
 "nbformat": 4,
 "nbformat_minor": 2
}
